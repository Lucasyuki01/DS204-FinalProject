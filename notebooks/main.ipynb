{
  "cells": [
    {
      "cell_type": "markdown",
      "metadata": {},
      "source": [
        "# DS204 — Final Project: Analysis for Data Science\n",
        "\n",
        "👥 **Team:** _Aaron, Andres, Lucas, Melissa_\n",
        "\n",
        "📦 **Dataset:** _<Students Performance in Exams / [Source link](https://www.kaggle.com/datasets/spscientist/students-performance-in-exams)>_\n",
        "\n",
        "🗂️ **Repo:** _<[GitHub URL](https://github.com/Lucasyuki01/DS204-FinalProject)>_\n",
        "\n",
        "> **Goal:** Produce a complete data quality analysis, identify 2–3 meaningful associations (Pearson, Spearman, Kendall), fix data quality issues programmatically, suggest a prediction approach (focus on linear regression), and export the cleaned dataset."
      ]
    },
    {
      "cell_type": "markdown",
      "metadata": {},
      "source": [
        "## 0. Reproducibility & Environment\n",
        "Record package versions used so the notebook is fully reproducible."
      ]
    },
    {
      "cell_type": "code",
      "execution_count": null,
      "id": "8f6d1855",
      "metadata": {},
      "outputs": [],
      "source": [
        "# %% [reproducibility]\n",
        "import sys, platform\n",
        "import pandas as pd, numpy as np\n",
        "import sklearn, statsmodels\n",
        "import matplotlib, seaborn\n",
        "try:\n",
        "    import ydata_profiling\n",
        "except Exception:\n",
        "    ydata_profiling = None\n",
        "from datetime import datetime\n",
        "\n",
        "print({\n",
        "    'python': sys.version.split()[0],\n",
        "    'platform': platform.platform(),\n",
        "    'pandas': pd.__version__,\n",
        "    'numpy': np.__version__,\n",
        "    'scikit_learn': sklearn.__version__,\n",
        "    'statsmodels': statsmodels.__version__,\n",
        "    'matplotlib': matplotlib.__version__,\n",
        "    'seaborn': seaborn.__version__,\n",
        "    'ydata_profiling': getattr(ydata_profiling, '__version__', 'not installed'),\n",
        "    'timestamp': datetime.utcnow().isoformat()+'Z'\n",
        "})"
      ]
    },
    {
      "cell_type": "markdown",
      "metadata": {},
      "source": [
        "## 1. Setup & Data Loading\n",
        "Use a relative path. Keep raw data unchanged; write cleaned output to `data/Dataset-Fixed.csv`."
      ]
    },
    {
      "cell_type": "markdown",
      "metadata": {},
      "source": [
        "## 2. Quick Metadata & Basic Checks\n",
        "High-level overview for context and to feed the DQ report."
      ]
    },
    {
      "cell_type": "markdown",
      "metadata": {},
      "source": [
        "## 3. Data Quality Report (ydata_profiling)\n",
        "Generates `profile.html` to be submitted. If you prefer DataPrep, swap accordingly."
      ]
    },
    {
      "cell_type": "markdown",
      "metadata": {},
      "source": [
        "## 4. Correlations (Pearson, Spearman, Kendall)\n",
        "Compute correlation matrices programmatically to cross-check the profiling tool."
      ]
    },
    {
      "cell_type": "markdown",
      "metadata": {},
      "source": [
        "## 5. Candidate Associations (2–3 pairs)\n",
        "Select pairs based on domain logic + coefficients. Add short rationale and plots."
      ]
    },
    {
      "cell_type": "markdown",
      "metadata": {},
      "source": [
        "## 6. Data Quality Issues & Fixes\n",
        "Show evidence (counts/plots) and apply fixes with **clear rationale**. Keep raw intact."
      ]
    },
    {
      "cell_type": "markdown",
      "metadata": {},
      "source": [
        "## 7. Export Cleaned Dataset\n",
        "Save the cleaned data as `Dataset-Fixed.csv` as required."
      ]
    },
    {
      "cell_type": "markdown",
      "metadata": {},
      "source": [
        "## 8. Modeling Suggestion (Linear Regression)\n",
        "If assumptions hold, fit a simple linear regression. Otherwise, suggest a better alternative and justify."
      ]
    },
    {
      "cell_type": "markdown",
      "metadata": {},
      "source": [
        "## 9. Conclusions\n",
        "- Summary of associations and their interpretation.\n",
        "- Data quality issues and fixes (with % affected).\n",
        "- Recommended model and rationale.\n",
        "- Limitations and next steps."
      ]
    },
    {
      "cell_type": "markdown",
      "metadata": {},
      "source": [
        "## Appendix\n",
        "### A. Encoding Categorical Variables (if needed)"
      ]
    }
  ],
  "metadata": {
    "authors": [
      {
        "name": "DS204 Group"
      }
    ],
    "created": "2025-09-22T21:26:51.708913Z",
    "kernelspec": {
      "display_name": "Python 3",
      "language": "python",
      "name": "python3"
    },
    "language_info": {
      "name": "python",
      "version": "3.x"
    }
  },
  "nbformat": 4,
  "nbformat_minor": 5
}
