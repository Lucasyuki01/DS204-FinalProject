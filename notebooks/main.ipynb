{
 "cells": [
  {
   "cell_type": "markdown",
   "metadata": {},
   "source": [
    "# DS204 — Final Project: Analysis for Data Science\n",
    "\n",
    "👥 **Team:** _Aaron, Andres, Lucas, Melissa_\n",
    "\n",
    "📦 **Dataset:** _<Students Performance in Exams / [Source link](https://www.kaggle.com/datasets/spscientist/students-performance-in-exams)>_\n",
    "\n",
    "🗂️ **Repo:** _<[GitHub URL](https://github.com/Lucasyuki01/DS204-FinalProject)>_\n",
    "\n",
    "> **Goal:** Produce a complete data quality analysis, identify 2–3 meaningful associations (Pearson, Spearman, Kendall), fix data quality issues programmatically, suggest a prediction approach (focus on linear regression), and export the cleaned dataset."
   ],
   "id": "cfc4dd48c567ffba"
  },
  {
   "cell_type": "markdown",
   "metadata": {},
   "source": [
    "## 0. Reproducibility & Environment\n",
    "Record package versions used so the notebook is fully reproducible."
   ],
   "id": "f42bcfebd748926d"
  },
  {
   "cell_type": "code",
   "id": "8f6d1855",
   "metadata": {
    "ExecuteTime": {
     "end_time": "2025-09-23T01:51:08.911005Z",
     "start_time": "2025-09-23T01:51:04.362771Z"
    }
   },
   "source": [
    "# %% [reproducibility]\n",
    "import sys, platform\n",
    "import pandas as pd, numpy as np\n",
    "import sklearn, statsmodels\n",
    "import matplotlib, seaborn\n",
    "try:\n",
    "    import ydata_profiling\n",
    "except Exception:\n",
    "    ydata_profiling = None\n",
    "from datetime import datetime\n",
    "\n",
    "print({\n",
    "    'python': sys.version.split()[0],\n",
    "    'platform': platform.platform(),\n",
    "    'pandas': pd.__version__,\n",
    "    'numpy': np.__version__,\n",
    "    'scikit_learn': sklearn.__version__,\n",
    "    'statsmodels': statsmodels.__version__,\n",
    "    'matplotlib': matplotlib.__version__,\n",
    "    'seaborn': seaborn.__version__,\n",
    "    'ydata_profiling': getattr(ydata_profiling, '__version__', 'not installed'),\n",
    "    'timestamp': datetime.utcnow().isoformat()+'Z'\n",
    "})"
   ],
   "outputs": [
    {
     "name": "stderr",
     "output_type": "stream",
     "text": [
      "C:\\Users\\andre\\Documents\\Data Science\\DS-204 Analysis for Data Science\\Projects\\Final Project\\.venv\\Lib\\site-packages\\tqdm\\auto.py:21: TqdmWarning: IProgress not found. Please update jupyter and ipywidgets. See https://ipywidgets.readthedocs.io/en/stable/user_install.html\n",
      "  from .autonotebook import tqdm as notebook_tqdm\n"
     ]
    },
    {
     "name": "stdout",
     "output_type": "stream",
     "text": [
      "{'python': '3.11.0', 'platform': 'Windows-10-10.0.26100-SP0', 'pandas': '2.2.2', 'numpy': '1.26.4', 'scikit_learn': '1.5.1', 'statsmodels': '0.14.2', 'matplotlib': '3.8.4', 'seaborn': '0.13.2', 'ydata_profiling': '4.8.3', 'timestamp': '2025-09-23T01:51:08.907367Z'}\n"
     ]
    }
   ],
   "execution_count": 2
  },
  {
   "cell_type": "markdown",
   "metadata": {},
   "source": [
    "## 1. Setup & Data Loading\n",
    "Use a relative path. Keep raw data unchanged; write cleaned output to `data/Dataset-Fixed.csv`."
   ],
   "id": "7f7206214ee6a669"
  },
  {
   "metadata": {
    "ExecuteTime": {
     "end_time": "2025-09-23T01:51:39.258268Z",
     "start_time": "2025-09-23T01:51:39.248725Z"
    }
   },
   "cell_type": "code",
   "source": [
    "df = pd.read_csv(\"../data/StudentsPerformance.csv\")\n",
    "df_fixed = df.copy()"
   ],
   "id": "71e51e89fa15e1d3",
   "outputs": [],
   "execution_count": 5
  },
  {
   "cell_type": "markdown",
   "metadata": {},
   "source": [
    "## 2. Quick Metadata & Basic Checks\n",
    "High-level overview for context and to feed the DQ report."
   ],
   "id": "1744958caf6dbe26"
  },
  {
   "metadata": {
    "ExecuteTime": {
     "end_time": "2025-09-23T01:52:15.084937Z",
     "start_time": "2025-09-23T01:52:15.072916Z"
    }
   },
   "cell_type": "code",
   "source": "df_fixed.head()",
   "id": "98800f98869a5328",
   "outputs": [
    {
     "data": {
      "text/plain": [
       "   gender race/ethnicity parental level of education         lunch  \\\n",
       "0  female        group B           bachelor's degree      standard   \n",
       "1  female        group C                some college      standard   \n",
       "2  female        group B             master's degree      standard   \n",
       "3    male        group A          associate's degree  free/reduced   \n",
       "4    male        group C                some college      standard   \n",
       "\n",
       "  test preparation course  math score  reading score  writing score  \n",
       "0                    none          72             72             74  \n",
       "1               completed          69             90             88  \n",
       "2                    none          90             95             93  \n",
       "3                    none          47             57             44  \n",
       "4                    none          76             78             75  "
      ],
      "text/html": [
       "<div>\n",
       "<style scoped>\n",
       "    .dataframe tbody tr th:only-of-type {\n",
       "        vertical-align: middle;\n",
       "    }\n",
       "\n",
       "    .dataframe tbody tr th {\n",
       "        vertical-align: top;\n",
       "    }\n",
       "\n",
       "    .dataframe thead th {\n",
       "        text-align: right;\n",
       "    }\n",
       "</style>\n",
       "<table border=\"1\" class=\"dataframe\">\n",
       "  <thead>\n",
       "    <tr style=\"text-align: right;\">\n",
       "      <th></th>\n",
       "      <th>gender</th>\n",
       "      <th>race/ethnicity</th>\n",
       "      <th>parental level of education</th>\n",
       "      <th>lunch</th>\n",
       "      <th>test preparation course</th>\n",
       "      <th>math score</th>\n",
       "      <th>reading score</th>\n",
       "      <th>writing score</th>\n",
       "    </tr>\n",
       "  </thead>\n",
       "  <tbody>\n",
       "    <tr>\n",
       "      <th>0</th>\n",
       "      <td>female</td>\n",
       "      <td>group B</td>\n",
       "      <td>bachelor's degree</td>\n",
       "      <td>standard</td>\n",
       "      <td>none</td>\n",
       "      <td>72</td>\n",
       "      <td>72</td>\n",
       "      <td>74</td>\n",
       "    </tr>\n",
       "    <tr>\n",
       "      <th>1</th>\n",
       "      <td>female</td>\n",
       "      <td>group C</td>\n",
       "      <td>some college</td>\n",
       "      <td>standard</td>\n",
       "      <td>completed</td>\n",
       "      <td>69</td>\n",
       "      <td>90</td>\n",
       "      <td>88</td>\n",
       "    </tr>\n",
       "    <tr>\n",
       "      <th>2</th>\n",
       "      <td>female</td>\n",
       "      <td>group B</td>\n",
       "      <td>master's degree</td>\n",
       "      <td>standard</td>\n",
       "      <td>none</td>\n",
       "      <td>90</td>\n",
       "      <td>95</td>\n",
       "      <td>93</td>\n",
       "    </tr>\n",
       "    <tr>\n",
       "      <th>3</th>\n",
       "      <td>male</td>\n",
       "      <td>group A</td>\n",
       "      <td>associate's degree</td>\n",
       "      <td>free/reduced</td>\n",
       "      <td>none</td>\n",
       "      <td>47</td>\n",
       "      <td>57</td>\n",
       "      <td>44</td>\n",
       "    </tr>\n",
       "    <tr>\n",
       "      <th>4</th>\n",
       "      <td>male</td>\n",
       "      <td>group C</td>\n",
       "      <td>some college</td>\n",
       "      <td>standard</td>\n",
       "      <td>none</td>\n",
       "      <td>76</td>\n",
       "      <td>78</td>\n",
       "      <td>75</td>\n",
       "    </tr>\n",
       "  </tbody>\n",
       "</table>\n",
       "</div>"
      ]
     },
     "execution_count": 6,
     "metadata": {},
     "output_type": "execute_result"
    }
   ],
   "execution_count": 6
  },
  {
   "metadata": {
    "ExecuteTime": {
     "end_time": "2025-09-23T01:52:46.775139Z",
     "start_time": "2025-09-23T01:52:46.753439Z"
    }
   },
   "cell_type": "code",
   "source": "df_fixed.describe()",
   "id": "d4ca68c2249933a9",
   "outputs": [
    {
     "data": {
      "text/plain": [
       "       math score  reading score  writing score\n",
       "count  1000.00000    1000.000000    1000.000000\n",
       "mean     66.08900      69.169000      68.054000\n",
       "std      15.16308      14.600192      15.195657\n",
       "min       0.00000      17.000000      10.000000\n",
       "25%      57.00000      59.000000      57.750000\n",
       "50%      66.00000      70.000000      69.000000\n",
       "75%      77.00000      79.000000      79.000000\n",
       "max     100.00000     100.000000     100.000000"
      ],
      "text/html": [
       "<div>\n",
       "<style scoped>\n",
       "    .dataframe tbody tr th:only-of-type {\n",
       "        vertical-align: middle;\n",
       "    }\n",
       "\n",
       "    .dataframe tbody tr th {\n",
       "        vertical-align: top;\n",
       "    }\n",
       "\n",
       "    .dataframe thead th {\n",
       "        text-align: right;\n",
       "    }\n",
       "</style>\n",
       "<table border=\"1\" class=\"dataframe\">\n",
       "  <thead>\n",
       "    <tr style=\"text-align: right;\">\n",
       "      <th></th>\n",
       "      <th>math score</th>\n",
       "      <th>reading score</th>\n",
       "      <th>writing score</th>\n",
       "    </tr>\n",
       "  </thead>\n",
       "  <tbody>\n",
       "    <tr>\n",
       "      <th>count</th>\n",
       "      <td>1000.00000</td>\n",
       "      <td>1000.000000</td>\n",
       "      <td>1000.000000</td>\n",
       "    </tr>\n",
       "    <tr>\n",
       "      <th>mean</th>\n",
       "      <td>66.08900</td>\n",
       "      <td>69.169000</td>\n",
       "      <td>68.054000</td>\n",
       "    </tr>\n",
       "    <tr>\n",
       "      <th>std</th>\n",
       "      <td>15.16308</td>\n",
       "      <td>14.600192</td>\n",
       "      <td>15.195657</td>\n",
       "    </tr>\n",
       "    <tr>\n",
       "      <th>min</th>\n",
       "      <td>0.00000</td>\n",
       "      <td>17.000000</td>\n",
       "      <td>10.000000</td>\n",
       "    </tr>\n",
       "    <tr>\n",
       "      <th>25%</th>\n",
       "      <td>57.00000</td>\n",
       "      <td>59.000000</td>\n",
       "      <td>57.750000</td>\n",
       "    </tr>\n",
       "    <tr>\n",
       "      <th>50%</th>\n",
       "      <td>66.00000</td>\n",
       "      <td>70.000000</td>\n",
       "      <td>69.000000</td>\n",
       "    </tr>\n",
       "    <tr>\n",
       "      <th>75%</th>\n",
       "      <td>77.00000</td>\n",
       "      <td>79.000000</td>\n",
       "      <td>79.000000</td>\n",
       "    </tr>\n",
       "    <tr>\n",
       "      <th>max</th>\n",
       "      <td>100.00000</td>\n",
       "      <td>100.000000</td>\n",
       "      <td>100.000000</td>\n",
       "    </tr>\n",
       "  </tbody>\n",
       "</table>\n",
       "</div>"
      ]
     },
     "execution_count": 7,
     "metadata": {},
     "output_type": "execute_result"
    }
   ],
   "execution_count": 7
  },
  {
   "metadata": {
    "ExecuteTime": {
     "end_time": "2025-09-23T01:53:00.446083Z",
     "start_time": "2025-09-23T01:53:00.432750Z"
    }
   },
   "cell_type": "code",
   "source": "df_fixed.info()",
   "id": "b18724ea9b7215c2",
   "outputs": [
    {
     "name": "stdout",
     "output_type": "stream",
     "text": [
      "<class 'pandas.core.frame.DataFrame'>\n",
      "RangeIndex: 1000 entries, 0 to 999\n",
      "Data columns (total 8 columns):\n",
      " #   Column                       Non-Null Count  Dtype \n",
      "---  ------                       --------------  ----- \n",
      " 0   gender                       1000 non-null   object\n",
      " 1   race/ethnicity               1000 non-null   object\n",
      " 2   parental level of education  1000 non-null   object\n",
      " 3   lunch                        1000 non-null   object\n",
      " 4   test preparation course      1000 non-null   object\n",
      " 5   math score                   1000 non-null   int64 \n",
      " 6   reading score                1000 non-null   int64 \n",
      " 7   writing score                1000 non-null   int64 \n",
      "dtypes: int64(3), object(5)\n",
      "memory usage: 62.6+ KB\n"
     ]
    }
   ],
   "execution_count": 8
  },
  {
   "metadata": {
    "ExecuteTime": {
     "end_time": "2025-09-23T01:53:41.569886Z",
     "start_time": "2025-09-23T01:53:41.558337Z"
    }
   },
   "cell_type": "code",
   "source": "df.shape",
   "id": "70ea7e5cd7cc95ee",
   "outputs": [
    {
     "data": {
      "text/plain": [
       "(1000, 8)"
      ]
     },
     "execution_count": 9,
     "metadata": {},
     "output_type": "execute_result"
    }
   ],
   "execution_count": 9
  },
  {
   "cell_type": "markdown",
   "metadata": {},
   "source": [
    "## 3. Data Quality Report (ydata_profiling)\n",
    "Generates `profile.html` to be submitted. If you prefer DataPrep, swap accordingly."
   ],
   "id": "6ce15fc8afca6c82"
  },
  {
   "metadata": {
    "ExecuteTime": {
     "end_time": "2025-09-23T01:51:08.985720Z",
     "start_time": "2025-09-23T01:51:08.980255Z"
    }
   },
   "cell_type": "code",
   "source": [
    "\"\"\"\n",
    "profile = ProfileReport(\n",
    "    df,\n",
    "    correlations={\n",
    "        \"pearson\":     {\"calculate\": True},\n",
    "        \"spearman\":    {\"calculate\": True},\n",
    "        \"kendall\":     {\"calculate\": True},\n",
    "        \"phi_k\":       {\"calculate\": False},\n",
    "        \"cramers\":     {\"calculate\": False},\n",
    "    }\n",
    ")\n",
    "\n",
    "profile.to_file(\"student_performance.html\")\n",
    "\"\"\""
   ],
   "id": "7c3c673d5058e051",
   "outputs": [
    {
     "data": {
      "text/plain": [
       "'\\nprofile = ProfileReport(\\n    df_teams,\\n    correlations={\\n        \"pearson\":     {\"calculate\": True},\\n        \"spearman\":    {\"calculate\": True},\\n        \"kendall\":     {\"calculate\": True},\\n        \"phi_k\":       {\"calculate\": False},\\n        \"cramers\":     {\"calculate\": False},\\n    }\\n)\\n\\nprofile.to_file(\"teams.html\")\\n'"
      ]
     },
     "execution_count": 4,
     "metadata": {},
     "output_type": "execute_result"
    }
   ],
   "execution_count": 4
  },
  {
   "cell_type": "markdown",
   "metadata": {},
   "source": [
    "## 4. Correlations (Pearson, Spearman, Kendall)\n",
    "Compute correlation matrices programmatically to cross-check the profiling tool."
   ],
   "id": "ce99f2609ea92621"
  },
  {
   "cell_type": "markdown",
   "metadata": {},
   "source": [
    "## 5. Candidate Associations (2–3 pairs)\n",
    "Select pairs based on domain logic + coefficients. Add short rationale and plots."
   ],
   "id": "97c203e9b0067265"
  },
  {
   "cell_type": "markdown",
   "metadata": {},
   "source": [
    "## 6. Data Quality Issues & Fixes\n",
    "Show evidence (counts/plots) and apply fixes with **clear rationale**. Keep raw intact."
   ],
   "id": "ccdb30364435ee5d"
  },
  {
   "cell_type": "markdown",
   "metadata": {},
   "source": [
    "## 7. Export Cleaned Dataset\n",
    "Save the cleaned data as `Dataset-Fixed.csv` as required."
   ],
   "id": "e874cdc1bb85d6a"
  },
  {
   "metadata": {},
   "cell_type": "code",
   "outputs": [],
   "execution_count": null,
   "source": [
    "\"\"\"\n",
    "df_fixed.to_csv(\"../data/StudentsPerformance_fixed.csv\")\n",
    "\"\"\""
   ],
   "id": "38303eaefda9ed39"
  },
  {
   "cell_type": "markdown",
   "metadata": {},
   "source": [
    "## 8. Modeling Suggestion (Linear Regression)\n",
    "If assumptions hold, fit a simple linear regression. Otherwise, suggest a better alternative and justify."
   ],
   "id": "2fc3bd48b252728d"
  },
  {
   "cell_type": "markdown",
   "metadata": {},
   "source": [
    "## 9. Conclusions\n",
    "- Summary of associations and their interpretation.\n",
    "- Data quality issues and fixes (with % affected).\n",
    "- Recommended model and rationale.\n",
    "- Limitations and next steps."
   ],
   "id": "1c24d8cc21c1d8d7"
  },
  {
   "cell_type": "markdown",
   "metadata": {},
   "source": [
    "## Appendix\n",
    "### A. Encoding Categorical Variables (if needed)"
   ],
   "id": "f257949808662093"
  }
 ],
 "metadata": {
  "authors": [
   {
    "name": "DS204 Group"
   }
  ],
  "created": "2025-09-22T21:26:51.708913Z",
  "kernelspec": {
   "display_name": "Python 3",
   "language": "python",
   "name": "python3"
  },
  "language_info": {
   "name": "python",
   "version": "3.x"
  }
 },
 "nbformat": 4,
 "nbformat_minor": 5
}
