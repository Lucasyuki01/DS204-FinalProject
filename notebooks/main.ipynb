{
 "cells": [
  {
   "cell_type": "markdown",
   "metadata": {},
   "source": [
    "# DS204 — Final Project: Analysis for Data Science\n",
    "\n",
    "👥 **Team:** _Aaron, Andres, Lucas, Melissa_\n",
    "\n",
    "📦 **Dataset:** _<Students Performance in Math / [Source link](https://archive.ics.uci.edu/dataset/320/student+performance)>_\n",
    "\n",
    "🗂️ **Repo:** _<[GitHub URL](https://github.com/Lucasyuki01/DS204-FinalProject)>_\n",
    "\n",
    "> **Goal:** Produce a complete data quality analysis, identify 2–3 meaningful associations (Pearson, Spearman, Kendall), fix data quality issues programmatically, suggest a prediction approach (focus on linear regression), and export the cleaned dataset."
   ],
   "id": "cfc4dd48c567ffba"
  },
  {
   "cell_type": "markdown",
   "metadata": {},
   "source": [
    "## 0. Reproducibility & Environment\n",
    "Record package versions used so the notebook is fully reproducible."
   ],
   "id": "f42bcfebd748926d"
  },
  {
   "cell_type": "code",
   "id": "8f6d1855",
   "metadata": {
    "ExecuteTime": {
     "end_time": "2025-09-25T20:22:56.769877Z",
     "start_time": "2025-09-25T20:22:56.675415Z"
    }
   },
   "source": [
    "from gensim.models.tfidfmodel import df2idf\n",
    "# %% [reproducibility]\n",
    "%matplotlib inline\n",
    "\n",
    "import sys, platform\n",
    "import pandas as pd, numpy as np\n",
    "import sklearn, statsmodels\n",
    "import matplotlib.pyplot as plt, seaborn as sns\n",
    "import ydata_profiling\n",
    "from ydata_profiling import ProfileReport\n",
    "from datetime import datetime\n",
    "\n",
    "print({\n",
    "    'python': sys.version.split()[0],\n",
    "    'platform': platform.platform(),\n",
    "    'pandas': pd.__version__,\n",
    "    'numpy': np.__version__,\n",
    "    'scikit_learn': sklearn.__version__,\n",
    "    'statsmodels': statsmodels.__version__,\n",
    "    'matplotlib': matplotlib.__version__,\n",
    "    'seaborn': seaborn.__version__,\n",
    "    'ydata_profiling': getattr(ydata_profiling, '__version__', 'not installed'),\n",
    "    'timestamp': datetime.utcnow().isoformat()+'Z'\n",
    "})"
   ],
   "outputs": [
    {
     "name": "stdout",
     "output_type": "stream",
     "text": [
      "{'python': '3.12.7', 'platform': 'macOS-15.5-arm64-arm-64bit', 'pandas': '2.3.2', 'numpy': '1.26.4', 'scikit_learn': '1.5.1', 'statsmodels': '0.14.2', 'matplotlib': '3.9.2', 'seaborn': '0.13.2', 'ydata_profiling': '4.16.1', 'timestamp': '2025-09-25T20:22:56.691725Z'}\n"
     ]
    },
    {
     "name": "stderr",
     "output_type": "stream",
     "text": [
      "/var/folders/k6/4x3qjl0j18b0l8n4w0sjr9y40000gn/T/ipykernel_61880/977552162.py:22: DeprecationWarning: datetime.datetime.utcnow() is deprecated and scheduled for removal in a future version. Use timezone-aware objects to represent datetimes in UTC: datetime.datetime.now(datetime.UTC).\n",
      "  'timestamp': datetime.utcnow().isoformat()+'Z'\n"
     ]
    }
   ],
   "execution_count": 53
  },
  {
   "cell_type": "markdown",
   "metadata": {},
   "source": [
    "## 1. Setup & Data Loading\n",
    "Use a relative path. Keep raw data unchanged; write cleaned output to `data/Dataset-Fixed.csv`."
   ],
   "id": "7f7206214ee6a669"
  },
  {
   "metadata": {
    "ExecuteTime": {
     "end_time": "2025-09-25T19:59:51.171740Z",
     "start_time": "2025-09-25T19:59:51.159954Z"
    }
   },
   "cell_type": "code",
   "source": [
    "df = pd.read_csv(\"../data/student-mat.csv\", sep=\";\")\n",
    "df_fixed = df.copy()"
   ],
   "id": "71e51e89fa15e1d3",
   "outputs": [],
   "execution_count": 36
  },
  {
   "cell_type": "markdown",
   "metadata": {},
   "source": [
    "## 2. Quick Metadata & Basic Checks\n",
    "High-level overview for context and to feed the DQ report."
   ],
   "id": "1744958caf6dbe26"
  },
  {
   "metadata": {
    "ExecuteTime": {
     "end_time": "2025-09-25T19:59:53.707421Z",
     "start_time": "2025-09-25T19:59:53.692521Z"
    }
   },
   "cell_type": "code",
   "source": "df_fixed.head()",
   "id": "98800f98869a5328",
   "outputs": [
    {
     "data": {
      "text/plain": [
       "  school sex  age address famsize Pstatus  Medu  Fedu     Mjob      Fjob  ...  \\\n",
       "0     GP   F   18       U     GT3       A     4     4  at_home   teacher  ...   \n",
       "1     GP   F   17       U     GT3       T     1     1  at_home     other  ...   \n",
       "2     GP   F   15       U     LE3       T     1     1  at_home     other  ...   \n",
       "3     GP   F   15       U     GT3       T     4     2   health  services  ...   \n",
       "4     GP   F   16       U     GT3       T     3     3    other     other  ...   \n",
       "\n",
       "  famrel freetime  goout  Dalc  Walc health absences  G1  G2  G3  \n",
       "0      4        3      4     1     1      3        6   5   6   6  \n",
       "1      5        3      3     1     1      3        4   5   5   6  \n",
       "2      4        3      2     2     3      3       10   7   8  10  \n",
       "3      3        2      2     1     1      5        2  15  14  15  \n",
       "4      4        3      2     1     2      5        4   6  10  10  \n",
       "\n",
       "[5 rows x 33 columns]"
      ],
      "text/html": [
       "<div>\n",
       "<style scoped>\n",
       "    .dataframe tbody tr th:only-of-type {\n",
       "        vertical-align: middle;\n",
       "    }\n",
       "\n",
       "    .dataframe tbody tr th {\n",
       "        vertical-align: top;\n",
       "    }\n",
       "\n",
       "    .dataframe thead th {\n",
       "        text-align: right;\n",
       "    }\n",
       "</style>\n",
       "<table border=\"1\" class=\"dataframe\">\n",
       "  <thead>\n",
       "    <tr style=\"text-align: right;\">\n",
       "      <th></th>\n",
       "      <th>school</th>\n",
       "      <th>sex</th>\n",
       "      <th>age</th>\n",
       "      <th>address</th>\n",
       "      <th>famsize</th>\n",
       "      <th>Pstatus</th>\n",
       "      <th>Medu</th>\n",
       "      <th>Fedu</th>\n",
       "      <th>Mjob</th>\n",
       "      <th>Fjob</th>\n",
       "      <th>...</th>\n",
       "      <th>famrel</th>\n",
       "      <th>freetime</th>\n",
       "      <th>goout</th>\n",
       "      <th>Dalc</th>\n",
       "      <th>Walc</th>\n",
       "      <th>health</th>\n",
       "      <th>absences</th>\n",
       "      <th>G1</th>\n",
       "      <th>G2</th>\n",
       "      <th>G3</th>\n",
       "    </tr>\n",
       "  </thead>\n",
       "  <tbody>\n",
       "    <tr>\n",
       "      <th>0</th>\n",
       "      <td>GP</td>\n",
       "      <td>F</td>\n",
       "      <td>18</td>\n",
       "      <td>U</td>\n",
       "      <td>GT3</td>\n",
       "      <td>A</td>\n",
       "      <td>4</td>\n",
       "      <td>4</td>\n",
       "      <td>at_home</td>\n",
       "      <td>teacher</td>\n",
       "      <td>...</td>\n",
       "      <td>4</td>\n",
       "      <td>3</td>\n",
       "      <td>4</td>\n",
       "      <td>1</td>\n",
       "      <td>1</td>\n",
       "      <td>3</td>\n",
       "      <td>6</td>\n",
       "      <td>5</td>\n",
       "      <td>6</td>\n",
       "      <td>6</td>\n",
       "    </tr>\n",
       "    <tr>\n",
       "      <th>1</th>\n",
       "      <td>GP</td>\n",
       "      <td>F</td>\n",
       "      <td>17</td>\n",
       "      <td>U</td>\n",
       "      <td>GT3</td>\n",
       "      <td>T</td>\n",
       "      <td>1</td>\n",
       "      <td>1</td>\n",
       "      <td>at_home</td>\n",
       "      <td>other</td>\n",
       "      <td>...</td>\n",
       "      <td>5</td>\n",
       "      <td>3</td>\n",
       "      <td>3</td>\n",
       "      <td>1</td>\n",
       "      <td>1</td>\n",
       "      <td>3</td>\n",
       "      <td>4</td>\n",
       "      <td>5</td>\n",
       "      <td>5</td>\n",
       "      <td>6</td>\n",
       "    </tr>\n",
       "    <tr>\n",
       "      <th>2</th>\n",
       "      <td>GP</td>\n",
       "      <td>F</td>\n",
       "      <td>15</td>\n",
       "      <td>U</td>\n",
       "      <td>LE3</td>\n",
       "      <td>T</td>\n",
       "      <td>1</td>\n",
       "      <td>1</td>\n",
       "      <td>at_home</td>\n",
       "      <td>other</td>\n",
       "      <td>...</td>\n",
       "      <td>4</td>\n",
       "      <td>3</td>\n",
       "      <td>2</td>\n",
       "      <td>2</td>\n",
       "      <td>3</td>\n",
       "      <td>3</td>\n",
       "      <td>10</td>\n",
       "      <td>7</td>\n",
       "      <td>8</td>\n",
       "      <td>10</td>\n",
       "    </tr>\n",
       "    <tr>\n",
       "      <th>3</th>\n",
       "      <td>GP</td>\n",
       "      <td>F</td>\n",
       "      <td>15</td>\n",
       "      <td>U</td>\n",
       "      <td>GT3</td>\n",
       "      <td>T</td>\n",
       "      <td>4</td>\n",
       "      <td>2</td>\n",
       "      <td>health</td>\n",
       "      <td>services</td>\n",
       "      <td>...</td>\n",
       "      <td>3</td>\n",
       "      <td>2</td>\n",
       "      <td>2</td>\n",
       "      <td>1</td>\n",
       "      <td>1</td>\n",
       "      <td>5</td>\n",
       "      <td>2</td>\n",
       "      <td>15</td>\n",
       "      <td>14</td>\n",
       "      <td>15</td>\n",
       "    </tr>\n",
       "    <tr>\n",
       "      <th>4</th>\n",
       "      <td>GP</td>\n",
       "      <td>F</td>\n",
       "      <td>16</td>\n",
       "      <td>U</td>\n",
       "      <td>GT3</td>\n",
       "      <td>T</td>\n",
       "      <td>3</td>\n",
       "      <td>3</td>\n",
       "      <td>other</td>\n",
       "      <td>other</td>\n",
       "      <td>...</td>\n",
       "      <td>4</td>\n",
       "      <td>3</td>\n",
       "      <td>2</td>\n",
       "      <td>1</td>\n",
       "      <td>2</td>\n",
       "      <td>5</td>\n",
       "      <td>4</td>\n",
       "      <td>6</td>\n",
       "      <td>10</td>\n",
       "      <td>10</td>\n",
       "    </tr>\n",
       "  </tbody>\n",
       "</table>\n",
       "<p>5 rows × 33 columns</p>\n",
       "</div>"
      ]
     },
     "execution_count": 37,
     "metadata": {},
     "output_type": "execute_result"
    }
   ],
   "execution_count": 37
  },
  {
   "metadata": {
    "ExecuteTime": {
     "end_time": "2025-09-25T19:59:56.659875Z",
     "start_time": "2025-09-25T19:59:56.637424Z"
    }
   },
   "cell_type": "code",
   "source": "df_fixed.describe()",
   "id": "d4ca68c2249933a9",
   "outputs": [
    {
     "data": {
      "text/plain": [
       "              age        Medu        Fedu  traveltime   studytime    failures  \\\n",
       "count  395.000000  395.000000  395.000000  395.000000  395.000000  395.000000   \n",
       "mean    16.696203    2.749367    2.521519    1.448101    2.035443    0.334177   \n",
       "std      1.276043    1.094735    1.088201    0.697505    0.839240    0.743651   \n",
       "min     15.000000    0.000000    0.000000    1.000000    1.000000    0.000000   \n",
       "25%     16.000000    2.000000    2.000000    1.000000    1.000000    0.000000   \n",
       "50%     17.000000    3.000000    2.000000    1.000000    2.000000    0.000000   \n",
       "75%     18.000000    4.000000    3.000000    2.000000    2.000000    0.000000   \n",
       "max     22.000000    4.000000    4.000000    4.000000    4.000000    3.000000   \n",
       "\n",
       "           famrel    freetime       goout        Dalc        Walc      health  \\\n",
       "count  395.000000  395.000000  395.000000  395.000000  395.000000  395.000000   \n",
       "mean     3.944304    3.235443    3.108861    1.481013    2.291139    3.554430   \n",
       "std      0.896659    0.998862    1.113278    0.890741    1.287897    1.390303   \n",
       "min      1.000000    1.000000    1.000000    1.000000    1.000000    1.000000   \n",
       "25%      4.000000    3.000000    2.000000    1.000000    1.000000    3.000000   \n",
       "50%      4.000000    3.000000    3.000000    1.000000    2.000000    4.000000   \n",
       "75%      5.000000    4.000000    4.000000    2.000000    3.000000    5.000000   \n",
       "max      5.000000    5.000000    5.000000    5.000000    5.000000    5.000000   \n",
       "\n",
       "         absences          G1          G2          G3  \n",
       "count  395.000000  395.000000  395.000000  395.000000  \n",
       "mean     5.708861   10.908861   10.713924   10.415190  \n",
       "std      8.003096    3.319195    3.761505    4.581443  \n",
       "min      0.000000    3.000000    0.000000    0.000000  \n",
       "25%      0.000000    8.000000    9.000000    8.000000  \n",
       "50%      4.000000   11.000000   11.000000   11.000000  \n",
       "75%      8.000000   13.000000   13.000000   14.000000  \n",
       "max     75.000000   19.000000   19.000000   20.000000  "
      ],
      "text/html": [
       "<div>\n",
       "<style scoped>\n",
       "    .dataframe tbody tr th:only-of-type {\n",
       "        vertical-align: middle;\n",
       "    }\n",
       "\n",
       "    .dataframe tbody tr th {\n",
       "        vertical-align: top;\n",
       "    }\n",
       "\n",
       "    .dataframe thead th {\n",
       "        text-align: right;\n",
       "    }\n",
       "</style>\n",
       "<table border=\"1\" class=\"dataframe\">\n",
       "  <thead>\n",
       "    <tr style=\"text-align: right;\">\n",
       "      <th></th>\n",
       "      <th>age</th>\n",
       "      <th>Medu</th>\n",
       "      <th>Fedu</th>\n",
       "      <th>traveltime</th>\n",
       "      <th>studytime</th>\n",
       "      <th>failures</th>\n",
       "      <th>famrel</th>\n",
       "      <th>freetime</th>\n",
       "      <th>goout</th>\n",
       "      <th>Dalc</th>\n",
       "      <th>Walc</th>\n",
       "      <th>health</th>\n",
       "      <th>absences</th>\n",
       "      <th>G1</th>\n",
       "      <th>G2</th>\n",
       "      <th>G3</th>\n",
       "    </tr>\n",
       "  </thead>\n",
       "  <tbody>\n",
       "    <tr>\n",
       "      <th>count</th>\n",
       "      <td>395.000000</td>\n",
       "      <td>395.000000</td>\n",
       "      <td>395.000000</td>\n",
       "      <td>395.000000</td>\n",
       "      <td>395.000000</td>\n",
       "      <td>395.000000</td>\n",
       "      <td>395.000000</td>\n",
       "      <td>395.000000</td>\n",
       "      <td>395.000000</td>\n",
       "      <td>395.000000</td>\n",
       "      <td>395.000000</td>\n",
       "      <td>395.000000</td>\n",
       "      <td>395.000000</td>\n",
       "      <td>395.000000</td>\n",
       "      <td>395.000000</td>\n",
       "      <td>395.000000</td>\n",
       "    </tr>\n",
       "    <tr>\n",
       "      <th>mean</th>\n",
       "      <td>16.696203</td>\n",
       "      <td>2.749367</td>\n",
       "      <td>2.521519</td>\n",
       "      <td>1.448101</td>\n",
       "      <td>2.035443</td>\n",
       "      <td>0.334177</td>\n",
       "      <td>3.944304</td>\n",
       "      <td>3.235443</td>\n",
       "      <td>3.108861</td>\n",
       "      <td>1.481013</td>\n",
       "      <td>2.291139</td>\n",
       "      <td>3.554430</td>\n",
       "      <td>5.708861</td>\n",
       "      <td>10.908861</td>\n",
       "      <td>10.713924</td>\n",
       "      <td>10.415190</td>\n",
       "    </tr>\n",
       "    <tr>\n",
       "      <th>std</th>\n",
       "      <td>1.276043</td>\n",
       "      <td>1.094735</td>\n",
       "      <td>1.088201</td>\n",
       "      <td>0.697505</td>\n",
       "      <td>0.839240</td>\n",
       "      <td>0.743651</td>\n",
       "      <td>0.896659</td>\n",
       "      <td>0.998862</td>\n",
       "      <td>1.113278</td>\n",
       "      <td>0.890741</td>\n",
       "      <td>1.287897</td>\n",
       "      <td>1.390303</td>\n",
       "      <td>8.003096</td>\n",
       "      <td>3.319195</td>\n",
       "      <td>3.761505</td>\n",
       "      <td>4.581443</td>\n",
       "    </tr>\n",
       "    <tr>\n",
       "      <th>min</th>\n",
       "      <td>15.000000</td>\n",
       "      <td>0.000000</td>\n",
       "      <td>0.000000</td>\n",
       "      <td>1.000000</td>\n",
       "      <td>1.000000</td>\n",
       "      <td>0.000000</td>\n",
       "      <td>1.000000</td>\n",
       "      <td>1.000000</td>\n",
       "      <td>1.000000</td>\n",
       "      <td>1.000000</td>\n",
       "      <td>1.000000</td>\n",
       "      <td>1.000000</td>\n",
       "      <td>0.000000</td>\n",
       "      <td>3.000000</td>\n",
       "      <td>0.000000</td>\n",
       "      <td>0.000000</td>\n",
       "    </tr>\n",
       "    <tr>\n",
       "      <th>25%</th>\n",
       "      <td>16.000000</td>\n",
       "      <td>2.000000</td>\n",
       "      <td>2.000000</td>\n",
       "      <td>1.000000</td>\n",
       "      <td>1.000000</td>\n",
       "      <td>0.000000</td>\n",
       "      <td>4.000000</td>\n",
       "      <td>3.000000</td>\n",
       "      <td>2.000000</td>\n",
       "      <td>1.000000</td>\n",
       "      <td>1.000000</td>\n",
       "      <td>3.000000</td>\n",
       "      <td>0.000000</td>\n",
       "      <td>8.000000</td>\n",
       "      <td>9.000000</td>\n",
       "      <td>8.000000</td>\n",
       "    </tr>\n",
       "    <tr>\n",
       "      <th>50%</th>\n",
       "      <td>17.000000</td>\n",
       "      <td>3.000000</td>\n",
       "      <td>2.000000</td>\n",
       "      <td>1.000000</td>\n",
       "      <td>2.000000</td>\n",
       "      <td>0.000000</td>\n",
       "      <td>4.000000</td>\n",
       "      <td>3.000000</td>\n",
       "      <td>3.000000</td>\n",
       "      <td>1.000000</td>\n",
       "      <td>2.000000</td>\n",
       "      <td>4.000000</td>\n",
       "      <td>4.000000</td>\n",
       "      <td>11.000000</td>\n",
       "      <td>11.000000</td>\n",
       "      <td>11.000000</td>\n",
       "    </tr>\n",
       "    <tr>\n",
       "      <th>75%</th>\n",
       "      <td>18.000000</td>\n",
       "      <td>4.000000</td>\n",
       "      <td>3.000000</td>\n",
       "      <td>2.000000</td>\n",
       "      <td>2.000000</td>\n",
       "      <td>0.000000</td>\n",
       "      <td>5.000000</td>\n",
       "      <td>4.000000</td>\n",
       "      <td>4.000000</td>\n",
       "      <td>2.000000</td>\n",
       "      <td>3.000000</td>\n",
       "      <td>5.000000</td>\n",
       "      <td>8.000000</td>\n",
       "      <td>13.000000</td>\n",
       "      <td>13.000000</td>\n",
       "      <td>14.000000</td>\n",
       "    </tr>\n",
       "    <tr>\n",
       "      <th>max</th>\n",
       "      <td>22.000000</td>\n",
       "      <td>4.000000</td>\n",
       "      <td>4.000000</td>\n",
       "      <td>4.000000</td>\n",
       "      <td>4.000000</td>\n",
       "      <td>3.000000</td>\n",
       "      <td>5.000000</td>\n",
       "      <td>5.000000</td>\n",
       "      <td>5.000000</td>\n",
       "      <td>5.000000</td>\n",
       "      <td>5.000000</td>\n",
       "      <td>5.000000</td>\n",
       "      <td>75.000000</td>\n",
       "      <td>19.000000</td>\n",
       "      <td>19.000000</td>\n",
       "      <td>20.000000</td>\n",
       "    </tr>\n",
       "  </tbody>\n",
       "</table>\n",
       "</div>"
      ]
     },
     "execution_count": 38,
     "metadata": {},
     "output_type": "execute_result"
    }
   ],
   "execution_count": 38
  },
  {
   "metadata": {
    "ExecuteTime": {
     "end_time": "2025-09-25T19:59:59.286721Z",
     "start_time": "2025-09-25T19:59:59.279178Z"
    }
   },
   "cell_type": "code",
   "source": "df_fixed.info()",
   "id": "b18724ea9b7215c2",
   "outputs": [
    {
     "name": "stdout",
     "output_type": "stream",
     "text": [
      "<class 'pandas.core.frame.DataFrame'>\n",
      "RangeIndex: 395 entries, 0 to 394\n",
      "Data columns (total 33 columns):\n",
      " #   Column      Non-Null Count  Dtype \n",
      "---  ------      --------------  ----- \n",
      " 0   school      395 non-null    object\n",
      " 1   sex         395 non-null    object\n",
      " 2   age         395 non-null    int64 \n",
      " 3   address     395 non-null    object\n",
      " 4   famsize     395 non-null    object\n",
      " 5   Pstatus     395 non-null    object\n",
      " 6   Medu        395 non-null    int64 \n",
      " 7   Fedu        395 non-null    int64 \n",
      " 8   Mjob        395 non-null    object\n",
      " 9   Fjob        395 non-null    object\n",
      " 10  reason      395 non-null    object\n",
      " 11  guardian    395 non-null    object\n",
      " 12  traveltime  395 non-null    int64 \n",
      " 13  studytime   395 non-null    int64 \n",
      " 14  failures    395 non-null    int64 \n",
      " 15  schoolsup   395 non-null    object\n",
      " 16  famsup      395 non-null    object\n",
      " 17  paid        395 non-null    object\n",
      " 18  activities  395 non-null    object\n",
      " 19  nursery     395 non-null    object\n",
      " 20  higher      395 non-null    object\n",
      " 21  internet    395 non-null    object\n",
      " 22  romantic    395 non-null    object\n",
      " 23  famrel      395 non-null    int64 \n",
      " 24  freetime    395 non-null    int64 \n",
      " 25  goout       395 non-null    int64 \n",
      " 26  Dalc        395 non-null    int64 \n",
      " 27  Walc        395 non-null    int64 \n",
      " 28  health      395 non-null    int64 \n",
      " 29  absences    395 non-null    int64 \n",
      " 30  G1          395 non-null    int64 \n",
      " 31  G2          395 non-null    int64 \n",
      " 32  G3          395 non-null    int64 \n",
      "dtypes: int64(16), object(17)\n",
      "memory usage: 102.0+ KB\n"
     ]
    }
   ],
   "execution_count": 39
  },
  {
   "metadata": {
    "ExecuteTime": {
     "end_time": "2025-09-25T20:00:01.806227Z",
     "start_time": "2025-09-25T20:00:01.803224Z"
    }
   },
   "cell_type": "code",
   "source": "df.shape",
   "id": "70ea7e5cd7cc95ee",
   "outputs": [
    {
     "data": {
      "text/plain": [
       "(395, 33)"
      ]
     },
     "execution_count": 40,
     "metadata": {},
     "output_type": "execute_result"
    }
   ],
   "execution_count": 40
  },
  {
   "cell_type": "markdown",
   "metadata": {},
   "source": [
    "## 3. Data Quality Report (ydata_profiling)\n",
    "Generates `profile.html` to be submitted. If you prefer DataPrep, swap accordingly."
   ],
   "id": "6ce15fc8afca6c82"
  },
  {
   "metadata": {
    "ExecuteTime": {
     "end_time": "2025-09-25T20:00:08.822654Z",
     "start_time": "2025-09-25T20:00:03.567528Z"
    }
   },
   "cell_type": "code",
   "source": [
    "\n",
    "profile = ProfileReport(\n",
    "    df,\n",
    "    correlations={\n",
    "        \"pearson\":     {\"calculate\": True},\n",
    "        \"spearman\":    {\"calculate\": True},\n",
    "        \"kendall\":     {\"calculate\": True},\n",
    "        \"phi_k\":       {\"calculate\": False},\n",
    "        \"cramers\":     {\"calculate\": False},\n",
    "    }\n",
    ")\n",
    "\n",
    "profile.to_file(\"student_performance.html\")\n"
   ],
   "id": "7c3c673d5058e051",
   "outputs": [
    {
     "data": {
      "text/plain": [
       "Summarize dataset:   0%|          | 0/5 [00:00<?, ?it/s]"
      ],
      "application/vnd.jupyter.widget-view+json": {
       "version_major": 2,
       "version_minor": 0,
       "model_id": "ca597e1d387749238f35be20119c86eb"
      }
     },
     "metadata": {},
     "output_type": "display_data"
    },
    {
     "name": "stderr",
     "output_type": "stream",
     "text": [
      "\n",
      "100%|██████████| 33/33 [00:00<00:00, 343.35it/s]\n"
     ]
    },
    {
     "data": {
      "text/plain": [
       "Generate report structure:   0%|          | 0/1 [00:00<?, ?it/s]"
      ],
      "application/vnd.jupyter.widget-view+json": {
       "version_major": 2,
       "version_minor": 0,
       "model_id": "fd7c3f0967f944d4a90de235c4e8a96d"
      }
     },
     "metadata": {},
     "output_type": "display_data"
    },
    {
     "data": {
      "text/plain": [
       "Render HTML:   0%|          | 0/1 [00:00<?, ?it/s]"
      ],
      "application/vnd.jupyter.widget-view+json": {
       "version_major": 2,
       "version_minor": 0,
       "model_id": "44b77ca3b01c47c19d88debd4bc46a54"
      }
     },
     "metadata": {},
     "output_type": "display_data"
    },
    {
     "data": {
      "text/plain": [
       "Export report to file:   0%|          | 0/1 [00:00<?, ?it/s]"
      ],
      "application/vnd.jupyter.widget-view+json": {
       "version_major": 2,
       "version_minor": 0,
       "model_id": "350fb8342fc2460390149f10d87dc274"
      }
     },
     "metadata": {},
     "output_type": "display_data"
    }
   ],
   "execution_count": 41
  },
  {
   "cell_type": "markdown",
   "metadata": {},
   "source": [
    "## 4. Correlations (Pearson, Spearman, Kendall)\n",
    "Compute correlation matrices programmatically to cross-check the profiling tool."
   ],
   "id": "ce99f2609ea92621"
  },
  {
   "metadata": {
    "ExecuteTime": {
     "end_time": "2025-09-25T20:00:18.868430Z",
     "start_time": "2025-09-25T20:00:18.834858Z"
    }
   },
   "cell_type": "code",
   "source": [
    "# Select only numeric columns\n",
    "numeric_df = df_fixed.select_dtypes(include=[\"number\"])\n",
    "\n",
    "# Now compute correlations\n",
    "pearson_corr = numeric_df.corr(method=\"pearson\")\n",
    "spearman_corr = numeric_df.corr(method=\"spearman\")\n",
    "kendall_corr = numeric_df.corr(method=\"kendall\")\n",
    "\n",
    "# Print results\n",
    "print(\"Pearson Correlation Matrix:\\n\", pearson_corr, \"\\n\")\n",
    "print(\"Spearman Correlation Matrix:\\n\", spearman_corr, \"\\n\")\n",
    "print(\"Kendall Correlation Matrix:\\n\", kendall_corr, \"\\n\")"
   ],
   "id": "bcd8299de54ce1af",
   "outputs": [
    {
     "name": "stdout",
     "output_type": "stream",
     "text": [
      "Pearson Correlation Matrix:\n",
      "                  age      Medu      Fedu  traveltime  studytime  failures  \\\n",
      "age         1.000000 -0.163658 -0.163438    0.070641  -0.004140  0.243665   \n",
      "Medu       -0.163658  1.000000  0.623455   -0.171639   0.064944 -0.236680   \n",
      "Fedu       -0.163438  0.623455  1.000000   -0.158194  -0.009175 -0.250408   \n",
      "traveltime  0.070641 -0.171639 -0.158194    1.000000  -0.100909  0.092239   \n",
      "studytime  -0.004140  0.064944 -0.009175   -0.100909   1.000000 -0.173563   \n",
      "failures    0.243665 -0.236680 -0.250408    0.092239  -0.173563  1.000000   \n",
      "famrel      0.053940 -0.003914 -0.001370   -0.016808   0.039731 -0.044337   \n",
      "freetime    0.016434  0.030891 -0.012846   -0.017025  -0.143198  0.091987   \n",
      "goout       0.126964  0.064094  0.043105    0.028540  -0.063904  0.124561   \n",
      "Dalc        0.131125  0.019834  0.002386    0.138325  -0.196019  0.136047   \n",
      "Walc        0.117276 -0.047123 -0.012631    0.134116  -0.253785  0.141962   \n",
      "health     -0.062187 -0.046878  0.014742    0.007501  -0.075616  0.065827   \n",
      "absences    0.175230  0.100285  0.024473   -0.012944  -0.062700  0.063726   \n",
      "G1         -0.064081  0.205341  0.190270   -0.093040   0.160612 -0.354718   \n",
      "G2         -0.143474  0.215527  0.164893   -0.153198   0.135880 -0.355896   \n",
      "G3         -0.161579  0.217147  0.152457   -0.117142   0.097820 -0.360415   \n",
      "\n",
      "              famrel  freetime     goout      Dalc      Walc    health  \\\n",
      "age         0.053940  0.016434  0.126964  0.131125  0.117276 -0.062187   \n",
      "Medu       -0.003914  0.030891  0.064094  0.019834 -0.047123 -0.046878   \n",
      "Fedu       -0.001370 -0.012846  0.043105  0.002386 -0.012631  0.014742   \n",
      "traveltime -0.016808 -0.017025  0.028540  0.138325  0.134116  0.007501   \n",
      "studytime   0.039731 -0.143198 -0.063904 -0.196019 -0.253785 -0.075616   \n",
      "failures   -0.044337  0.091987  0.124561  0.136047  0.141962  0.065827   \n",
      "famrel      1.000000  0.150701  0.064568 -0.077594 -0.113397  0.094056   \n",
      "freetime    0.150701  1.000000  0.285019  0.209001  0.147822  0.075733   \n",
      "goout       0.064568  0.285019  1.000000  0.266994  0.420386 -0.009577   \n",
      "Dalc       -0.077594  0.209001  0.266994  1.000000  0.647544  0.077180   \n",
      "Walc       -0.113397  0.147822  0.420386  0.647544  1.000000  0.092476   \n",
      "health      0.094056  0.075733 -0.009577  0.077180  0.092476  1.000000   \n",
      "absences   -0.044354 -0.058078  0.044302  0.111908  0.136291 -0.029937   \n",
      "G1          0.022168  0.012613 -0.149104 -0.094159 -0.126179 -0.073172   \n",
      "G2         -0.018281 -0.013777 -0.162250 -0.064120 -0.084927 -0.097720   \n",
      "G3          0.051363  0.011307 -0.132791 -0.054660 -0.051939 -0.061335   \n",
      "\n",
      "            absences        G1        G2        G3  \n",
      "age         0.175230 -0.064081 -0.143474 -0.161579  \n",
      "Medu        0.100285  0.205341  0.215527  0.217147  \n",
      "Fedu        0.024473  0.190270  0.164893  0.152457  \n",
      "traveltime -0.012944 -0.093040 -0.153198 -0.117142  \n",
      "studytime  -0.062700  0.160612  0.135880  0.097820  \n",
      "failures    0.063726 -0.354718 -0.355896 -0.360415  \n",
      "famrel     -0.044354  0.022168 -0.018281  0.051363  \n",
      "freetime   -0.058078  0.012613 -0.013777  0.011307  \n",
      "goout       0.044302 -0.149104 -0.162250 -0.132791  \n",
      "Dalc        0.111908 -0.094159 -0.064120 -0.054660  \n",
      "Walc        0.136291 -0.126179 -0.084927 -0.051939  \n",
      "health     -0.029937 -0.073172 -0.097720 -0.061335  \n",
      "absences    1.000000 -0.031003 -0.031777  0.034247  \n",
      "G1         -0.031003  1.000000  0.852118  0.801468  \n",
      "G2         -0.031777  0.852118  1.000000  0.904868  \n",
      "G3          0.034247  0.801468  0.904868  1.000000   \n",
      "\n",
      "Spearman Correlation Matrix:\n",
      "                  age      Medu      Fedu  traveltime  studytime  failures  \\\n",
      "age         1.000000 -0.161294 -0.149596    0.109804   0.031557  0.236464   \n",
      "Medu       -0.161294  1.000000  0.631577   -0.147849   0.063498 -0.242373   \n",
      "Fedu       -0.149596  0.631577  1.000000   -0.154454   0.018429 -0.236616   \n",
      "traveltime  0.109804 -0.147849 -0.154454    1.000000  -0.105969  0.079917   \n",
      "studytime   0.031557  0.063498  0.018429   -0.105969   1.000000 -0.157633   \n",
      "failures    0.236464 -0.242373 -0.236616    0.079917  -0.157633  1.000000   \n",
      "famrel      0.031380  0.012361  0.011400   -0.038656   0.058141 -0.051389   \n",
      "freetime    0.000302  0.028493 -0.017132   -0.022279  -0.131321  0.088058   \n",
      "goout       0.140131  0.064954  0.047961   -0.001430  -0.065979  0.105419   \n",
      "Dalc        0.097073  0.022729  0.003994    0.066477  -0.217904  0.187492   \n",
      "Walc        0.132799 -0.044332 -0.014486    0.063654  -0.264021  0.127912   \n",
      "health     -0.075150 -0.035686  0.018113   -0.015452  -0.091497  0.079688   \n",
      "absences    0.149276  0.097562  0.003568   -0.025061  -0.046180  0.096028   \n",
      "G1         -0.057630  0.209662  0.194737   -0.085501   0.162286 -0.346052   \n",
      "G2         -0.167622  0.236354  0.194844   -0.123795   0.129160 -0.362357   \n",
      "G3         -0.173438  0.225036  0.170049   -0.120530   0.105170 -0.361224   \n",
      "\n",
      "              famrel  freetime     goout      Dalc      Walc    health  \\\n",
      "age         0.031380  0.000302  0.140131  0.097073  0.132799 -0.075150   \n",
      "Medu        0.012361  0.028493  0.064954  0.022729 -0.044332 -0.035686   \n",
      "Fedu        0.011400 -0.017132  0.047961  0.003994 -0.014486  0.018113   \n",
      "traveltime -0.038656 -0.022279 -0.001430  0.066477  0.063654 -0.015452   \n",
      "studytime   0.058141 -0.131321 -0.065979 -0.217904 -0.264021 -0.091497   \n",
      "failures   -0.051389  0.088058  0.105419  0.187492  0.127912  0.079688   \n",
      "famrel      1.000000  0.143142  0.063549 -0.106338 -0.116060  0.085341   \n",
      "freetime    0.143142  1.000000  0.285182  0.194223  0.130246  0.088975   \n",
      "goout       0.063549  0.285182  1.000000  0.255146  0.393333 -0.018541   \n",
      "Dalc       -0.106338  0.194223  0.255146  1.000000  0.639906  0.095139   \n",
      "Walc       -0.116060  0.130246  0.393333  0.639906  1.000000  0.093625   \n",
      "health      0.085341  0.088975 -0.018541  0.095139  0.093625  1.000000   \n",
      "absences   -0.086577  0.013397  0.133280  0.129651  0.208508 -0.070132   \n",
      "G1          0.026433  0.006973 -0.151636 -0.111438 -0.108368 -0.052224   \n",
      "G2          0.008165 -0.016765 -0.160985 -0.110086 -0.109144 -0.050900   \n",
      "G3          0.054977 -0.004994 -0.166119 -0.120944 -0.104459 -0.047790   \n",
      "\n",
      "            absences        G1        G2        G3  \n",
      "age         0.149276 -0.057630 -0.167622 -0.173438  \n",
      "Medu        0.097562  0.209662  0.236354  0.225036  \n",
      "Fedu        0.003568  0.194737  0.194844  0.170049  \n",
      "traveltime -0.025061 -0.085501 -0.123795 -0.120530  \n",
      "studytime  -0.046180  0.162286  0.129160  0.105170  \n",
      "failures    0.096028 -0.346052 -0.362357 -0.361224  \n",
      "famrel     -0.086577  0.026433  0.008165  0.054977  \n",
      "freetime    0.013397  0.006973 -0.016765 -0.004994  \n",
      "goout       0.133280 -0.151636 -0.160985 -0.166119  \n",
      "Dalc        0.129651 -0.111438 -0.110086 -0.120944  \n",
      "Walc        0.208508 -0.108368 -0.109144 -0.104459  \n",
      "health     -0.070132 -0.052224 -0.050900 -0.047790  \n",
      "absences    1.000000  0.004479 -0.033600  0.017731  \n",
      "G1          0.004479  1.000000  0.894792  0.878001  \n",
      "G2         -0.033600  0.894792  1.000000  0.957125  \n",
      "G3          0.017731  0.878001  0.957125  1.000000   \n",
      "\n",
      "Kendall Correlation Matrix:\n",
      "                  age      Medu      Fedu  traveltime  studytime  failures  \\\n",
      "age         1.000000 -0.134240 -0.123585    0.096264   0.027854  0.210526   \n",
      "Medu       -0.134240  1.000000  0.549376   -0.131298   0.054220 -0.215815   \n",
      "Fedu       -0.123585  0.549376  1.000000   -0.137628   0.015513 -0.210886   \n",
      "traveltime  0.096264 -0.131298 -0.137628    1.000000  -0.095972  0.075963   \n",
      "studytime   0.027854  0.054220  0.015513   -0.095972   1.000000 -0.143786   \n",
      "failures    0.210526 -0.215815 -0.210886    0.075963  -0.143786  1.000000   \n",
      "famrel      0.026866  0.011335  0.009886   -0.035171   0.051512 -0.047422   \n",
      "freetime    0.000360  0.023855 -0.013491   -0.019729  -0.114147  0.078560   \n",
      "goout       0.114139  0.053642  0.040130   -0.001566  -0.059110  0.094453   \n",
      "Dalc        0.084443  0.019858  0.003607    0.062254  -0.196779  0.174686   \n",
      "Walc        0.107604 -0.037080 -0.011842    0.056763  -0.226298  0.113718   \n",
      "health     -0.061793 -0.029315  0.014044   -0.013252  -0.076562  0.069952   \n",
      "absences    0.117248  0.077151  0.002707   -0.020886  -0.037671  0.081123   \n",
      "G1         -0.044300  0.162541  0.151514   -0.070626   0.131441 -0.286751   \n",
      "G2         -0.129535  0.183938  0.153469   -0.101928   0.104742 -0.301646   \n",
      "G3         -0.134471  0.174766  0.132405   -0.098996   0.085112 -0.299185   \n",
      "\n",
      "              famrel  freetime     goout      Dalc      Walc    health  \\\n",
      "age         0.026866  0.000360  0.114139  0.084443  0.107604 -0.061793   \n",
      "Medu        0.011335  0.023855  0.053642  0.019858 -0.037080 -0.029315   \n",
      "Fedu        0.009886 -0.013491  0.040130  0.003607 -0.011842  0.014044   \n",
      "traveltime -0.035171 -0.019729 -0.001566  0.062254  0.056763 -0.013252   \n",
      "studytime   0.051512 -0.114147 -0.059110 -0.196779 -0.226298 -0.076562   \n",
      "failures   -0.047422  0.078560  0.094453  0.174686  0.113718  0.069952   \n",
      "famrel      1.000000  0.122849  0.054150 -0.096213 -0.099170  0.073315   \n",
      "freetime    0.122849  1.000000  0.249585  0.172462  0.109379  0.075107   \n",
      "goout       0.054150  0.249585  1.000000  0.224931  0.337090 -0.015041   \n",
      "Dalc       -0.096213  0.172462  0.224931  1.000000  0.579557  0.082544   \n",
      "Walc       -0.099170  0.109379  0.337090  0.579557  1.000000  0.075814   \n",
      "health      0.073315  0.075107 -0.015041  0.082544  0.075814  1.000000   \n",
      "absences   -0.070318  0.010776  0.108351  0.108427  0.167682 -0.055805   \n",
      "G1          0.021300  0.005200 -0.118060 -0.089424 -0.084131 -0.039848   \n",
      "G2          0.006465 -0.013646 -0.125315 -0.088973 -0.086137 -0.039020   \n",
      "G3          0.044007 -0.003746 -0.130110 -0.097154 -0.082838 -0.036624   \n",
      "\n",
      "            absences        G1        G2        G3  \n",
      "age         0.117248 -0.044300 -0.129535 -0.134471  \n",
      "Medu        0.077151  0.162541  0.183938  0.174766  \n",
      "Fedu        0.002707  0.151514  0.153469  0.132405  \n",
      "traveltime -0.020886 -0.070626 -0.101928 -0.098996  \n",
      "studytime  -0.037671  0.131441  0.104742  0.085112  \n",
      "failures    0.081123 -0.286751 -0.301646 -0.299185  \n",
      "famrel     -0.070318  0.021300  0.006465  0.044007  \n",
      "freetime    0.010776  0.005200 -0.013646 -0.003746  \n",
      "goout       0.108351 -0.118060 -0.125315 -0.130110  \n",
      "Dalc        0.108427 -0.089424 -0.088973 -0.097154  \n",
      "Walc        0.167682 -0.084131 -0.086137 -0.082838  \n",
      "health     -0.055805 -0.039848 -0.039020 -0.036624  \n",
      "absences    1.000000  0.003462 -0.030355  0.003723  \n",
      "G1          0.003462  1.000000  0.773459  0.746343  \n",
      "G2         -0.030355  0.773459  1.000000  0.883518  \n",
      "G3          0.003723  0.746343  0.883518  1.000000   \n",
      "\n"
     ]
    }
   ],
   "execution_count": 42
  },
  {
   "cell_type": "markdown",
   "metadata": {},
   "source": [
    "## 5. Candidate Associations\n",
    "Select pairs based on domain logic + coefficients. Add short rationale and plots.\n",
    "### 🔗 Association 1: Mother’s education (Medu) ↔ Father’s education (Fedu)\n",
    "Correlation: Pearson ≈ 0.62 (high), Spearman ≈ 0.63, Kendall ≈ 0.55.\n",
    "Interpretation: Parents with higher education levels tend to partner with someone with a similar education level.\n",
    "Why it makes sense: Educational attainment is often linked between spouses due to socioeconomic status, environment, or shared values.\n",
    "Data quality check: No strong missing data here, but both are ordinal, so Spearman/Kendall are also appropriate."
   ],
   "id": "97c203e9b0067265"
  },
  {
   "metadata": {
    "ExecuteTime": {
     "end_time": "2025-09-25T20:24:00.412129Z",
     "start_time": "2025-09-25T20:24:00.322259Z"
    }
   },
   "cell_type": "code",
   "source": [
    "# Heatmap of counts\n",
    "plt.figure(figsize=(6,5))\n",
    "sns.heatmap(pd.crosstab(df[\"Medu\"], df[\"Fedu\"]), annot=True, fmt=\"d\", cmap=\"Blues\")\n",
    "plt.title(\"Medu vs Fedu (Parental Education)\")\n",
    "plt.ylabel(\"Mother's Education\")\n",
    "plt.xlabel(\"Father's Education\")\n",
    "plt.show()\n"
   ],
   "id": "24685ef074593232",
   "outputs": [
    {
     "data": {
      "text/plain": [
       "<Figure size 600x500 with 2 Axes>"
      ],
      "image/png": "[encoded data removed]"
     },
     "metadata": {},
     "output_type": "display_data"
    }
   ],
   "execution_count": 56
  },
  {
   "metadata": {},
   "cell_type": "markdown",
   "source": [
    "### 🔗 Association 2: Workday alcohol consumption (Dalc) ↔ Weekend alcohol consumption (Walc)\n",
    "\n",
    "Correlation: Pearson ≈ 0.65, Spearman ≈ 0.64, Kendall ≈ 0.58.\n",
    "Interpretation: Students who drink more on weekdays are also likely to drink more on weekends.\n",
    "Why it makes sense: This reflects consistent drinking behavior — those who drink often don’t limit it only to one part of the week.\n",
    "Data quality check: Both are ordinal (1–5 scale). Pearson still works but Spearman/Kendall give a better picture since the relationship is monotonic, not necessarily linear."
   ],
   "id": "e0eea2cc7905d34c"
  },
  {
   "metadata": {
    "ExecuteTime": {
     "end_time": "2025-09-25T20:29:25.984584Z",
     "start_time": "2025-09-25T20:29:25.896871Z"
    }
   },
   "cell_type": "code",
   "source": [
    "# Scatter with jitter\n",
    "plt.figure(figsize=(6,5))\n",
    "sns.stripplot(x=\"Dalc\", y=\"Walc\", data=df, jitter=True, alpha=0.6)\n",
    "plt.title(\"Dalc vs Walc (Alcohol Consumption)\")\n",
    "plt.xlabel(\"Workday Alcohol (1–5)\")\n",
    "plt.ylabel(\"Weekend Alcohol (1–5)\")\n",
    "plt.show()"
   ],
   "id": "c784a5757e41812a",
   "outputs": [
    {
     "data": {
      "text/plain": [
       "<Figure size 600x500 with 1 Axes>"
      ],
      "image/png": "[encoded data removed]"
     },
     "metadata": {},
     "output_type": "display_data"
    }
   ],
   "execution_count": 57
  },
  {
   "metadata": {},
   "cell_type": "markdown",
   "source": [
    "## 🔗 Association 3: First period grade (G1) ↔ Final grade (G3)\n",
    "\n",
    "Correlation: Pearson ≈ 0.80, Spearman ≈ 0.88, Kendall ≈ 0.75.\n",
    "Interpretation: Students who perform well in the first evaluation also tend to perform well in the final exam.\n",
    "Why it makes sense: Academic performance across terms is strongly linked to prior preparation, habits, and consistency.\n",
    "Data quality check: Grades are numeric and linear, so Pearson is perfectly valid here."
   ],
   "id": "c3bc97f5f9b42961"
  },
  {
   "metadata": {
    "ExecuteTime": {
     "end_time": "2025-09-25T20:29:40.509433Z",
     "start_time": "2025-09-25T20:29:40.393232Z"
    }
   },
   "cell_type": "code",
   "source": [
    "plt.figure(figsize=(7,6))\n",
    "sns.regplot(x=\"G1\", y=\"G3\", data=df, scatter_kws={\"alpha\":0.5})\n",
    "plt.title(\"G1 vs G3 (Grades)\")\n",
    "plt.xlabel(\"First Period Grade (G1)\")\n",
    "plt.ylabel(\"Final Grade (G3)\")\n",
    "plt.show()"
   ],
   "id": "57d40e7be93be7a3",
   "outputs": [
    {
     "data": {
      "text/plain": [
       "<Figure size 700x600 with 1 Axes>"
      ],
      "image/png": "[encoded data removed]"
     },
     "metadata": {},
     "output_type": "display_data"
    }
   ],
   "execution_count": 58
  },
  {
   "cell_type": "markdown",
   "metadata": {},
   "source": [
    "## 6. Data Quality Issues & Fixes\n",
    "Dropping categorical columns unlinkely to contribute to analysis, removing outliers from absences, converting appropiate columns to categorical. No missing values."
   ],
   "id": "ccdb30364435ee5d"
  },
  {
   "metadata": {
    "ExecuteTime": {
     "end_time": "2025-09-25T20:33:18.362256Z",
     "start_time": "2025-09-25T20:33:18.348900Z"
    }
   },
   "cell_type": "code",
   "source": [
    "# Drop columns unlikely to contribute to analysis\n",
    "cols_to_drop = [\"school\", \"sex\", \"address\", \"famsize\", \"Pstatus\", \"Mjob\", \"Fjob\", \"reason\", \"guardian\", \"nursery\"]\n",
    "df_fixed = df_fixed.drop(columns=cols_to_drop)\n",
    "\n",
    "# Convert appropriate columns to categorical\n",
    "categorical_cols = [\"Medu\", \"Fedu\", \"schoolsup\", \"famsup\", \"paid\", \"activities\", \"higher\", \"internet\", \"romantic\"]\n",
    "for col in categorical_cols:\n",
    "    df_fixed[col] = df_fixed[col].astype(\"category\")\n",
    "\n",
    "# Identify and remove outliers in 'absences'\n",
    "Q1 = df_fixed['absences'].quantile(0.25)\n",
    "Q3 = df_fixed['absences'].quantile(0.75)\n",
    "IQR = Q3 - Q1\n",
    "lower_bound = Q1 - 1.5 * IQR\n",
    "upper_bound = Q3 + 1.5 * IQR\n",
    "\n",
    "df_fixed = df_fixed[(df_fixed['absences'] >= lower_bound) & (df_fixed['absences'] <= upper_bound)]"
   ],
   "id": "6c843ae0f2e2491",
   "outputs": [],
   "execution_count": 59
  },
  {
   "cell_type": "markdown",
   "metadata": {},
   "source": [
    "## 7. Export Cleaned Dataset\n",
    "Save the cleaned data as `Dataset-Fixed.csv` as required and recreate Data Report."
   ],
   "id": "e874cdc1bb85d6a"
  },
  {
   "metadata": {
    "ExecuteTime": {
     "end_time": "2025-09-25T20:45:49.097418Z",
     "start_time": "2025-09-25T20:45:43.822884Z"
    }
   },
   "cell_type": "code",
   "source": [
    "df_fixed.to_csv(\"../data/Dataset-Fixed.csv\")\n",
    "\n",
    "profile = ProfileReport(\n",
    "    df,\n",
    "    correlations={\n",
    "        \"pearson\":     {\"calculate\": True},\n",
    "        \"spearman\":    {\"calculate\": True},\n",
    "        \"kendall\":     {\"calculate\": True},\n",
    "        \"phi_k\":       {\"calculate\": False},\n",
    "        \"cramers\":     {\"calculate\": False},\n",
    "    }\n",
    ")\n",
    "\n",
    "profile.to_file(\"student_performance_fixed.html\")\n"
   ],
   "id": "38303eaefda9ed39",
   "outputs": [
    {
     "data": {
      "text/plain": [
       "Summarize dataset:   0%|          | 0/5 [00:00<?, ?it/s]"
      ],
      "application/vnd.jupyter.widget-view+json": {
       "version_major": 2,
       "version_minor": 0,
       "model_id": "99b82eb95a414f20a334eb81d53eab2e"
      }
     },
     "metadata": {},
     "output_type": "display_data"
    },
    {
     "name": "stderr",
     "output_type": "stream",
     "text": [
      "\n",
      "100%|██████████| 33/33 [00:00<00:00, 399.11it/s]\n"
     ]
    },
    {
     "data": {
      "text/plain": [
       "Generate report structure:   0%|          | 0/1 [00:00<?, ?it/s]"
      ],
      "application/vnd.jupyter.widget-view+json": {
       "version_major": 2,
       "version_minor": 0,
       "model_id": "f174d5c74cc74093b32c67f7a1a8687e"
      }
     },
     "metadata": {},
     "output_type": "display_data"
    },
    {
     "data": {
      "text/plain": [
       "Render HTML:   0%|          | 0/1 [00:00<?, ?it/s]"
      ],
      "application/vnd.jupyter.widget-view+json": {
       "version_major": 2,
       "version_minor": 0,
       "model_id": "504b1617513f4c07b5b55d98b993e8f3"
      }
     },
     "metadata": {},
     "output_type": "display_data"
    },
    {
     "data": {
      "text/plain": [
       "Export report to file:   0%|          | 0/1 [00:00<?, ?it/s]"
      ],
      "application/vnd.jupyter.widget-view+json": {
       "version_major": 2,
       "version_minor": 0,
       "model_id": "70d23642a31a4f9f8089cd2fd39622a4"
      }
     },
     "metadata": {},
     "output_type": "display_data"
    }
   ],
   "execution_count": 60
  }
 ],
 "metadata": {
  "authors": [
   {
    "name": "DS204 Group"
   }
  ],
  "created": "2025-09-22T21:26:51.708913Z",
  "kernelspec": {
   "display_name": "Python 3",
   "language": "python",
   "name": "python3"
  },
  "language_info": {
   "name": "python",
   "version": "3.x"
  }
 },
 "nbformat": 4,
 "nbformat_minor": 5
}
